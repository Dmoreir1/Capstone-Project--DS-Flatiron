{
 "cells": [
  {
   "cell_type": "code",
   "execution_count": 1,
   "metadata": {},
   "outputs": [],
   "source": [
    "import pandas as pd\n",
    "import numpy as np\n",
    "import datetime\n",
    "import statsmodels as sm\n",
    "import matplotlib.pyplot as plt\n",
    "import seaborn as sns \n",
    "from statsmodels.graphics.tsaplots import plot_acf, plot_pacf\n",
    "from statsmodels.tsa.arima.model import ARIMA\n",
    "from statsmodels.tsa.statespace.sarimax import SARIMAX\n",
    "from sklearn.metrics import mean_squared_error\n",
    "from statsmodels.tsa.stattools import adfuller, acf, pacf\n",
    "from sklearn.linear_model import LinearRegression\n",
    "from statsmodels.tsa.seasonal import seasonal_decompose\n",
    "from matplotlib.pylab import rcParams\n",
    "import matplotlib\n",
    "import folium\n",
    "import warnings\n",
    "import matplotlib.ticker as ticker\n",
    "from sklearn.model_selection import TimeSeriesSplit\n",
    "import pmdarima as pm\n",
    "import math\n",
    "%matplotlib inline\n",
    "sns.set_style(\"white\")\n",
    "plt.style.use('seaborn')\n",
    "# sns.set_palette(\"white\")"
   ]
  },
  {
   "attachments": {},
   "cell_type": "markdown",
   "metadata": {},
   "source": [
    "### Importing and Data Prep \n",
    "\n",
    "##### First lets read in the downloaded data from the state's DMV (scraped by AtlasEVHub.com) and can be downloaded here https://www.atlasevhub.com/materials/state-ev-registration-data/#data-format![image.png](attachment:image.png)\n",
    "\n",
    "Because I will only be focusing on cars that require the use of charging stations, I am narrowing down my results to BEV's or Battery Electric vehicles and then checking to may sure my filter applied by doing a value count to ensure all vehicles are in fact battery powered. "
   ]
  },
  {
   "cell_type": "code",
   "execution_count": 4,
   "metadata": {},
   "outputs": [
    {
     "name": "stdout",
     "output_type": "stream",
     "text": [
      "<class 'pandas.core.frame.DataFrame'>\n",
      "Int64Index: 249641 entries, 0 to 353791\n",
      "Data columns (total 7 columns):\n",
      " #   Column                        Non-Null Count   Dtype  \n",
      "---  ------                        --------------   -----  \n",
      " 0   DMV ID                        249641 non-null  int64  \n",
      " 1   DMV Snapshot (Date)           249641 non-null  object \n",
      " 2   County                        249641 non-null  object \n",
      " 3   Vehicle Name                  249641 non-null  object \n",
      " 4   Registration Valid Date       249641 non-null  object \n",
      " 5   Registration Expiration Date  0 non-null       float64\n",
      " 6   Technology                    249641 non-null  object \n",
      "dtypes: float64(1), int64(1), object(5)\n",
      "memory usage: 15.2+ MB\n"
     ]
    },
    {
     "data": {
      "text/plain": [
       "Tesla Model 3                    91019\n",
       "Tesla Model S                    59058\n",
       "Tesla Model X                    30887\n",
       "Tesla Model Y                    18856\n",
       "Nissan Leaf                      16295\n",
       "Chevrolet Bolt EV                 8484\n",
       "BMW i3                            6282\n",
       "Smart forTwo EV                   4695\n",
       "Audi e-tron                       2738\n",
       "Porsche Taycan                    2052\n",
       "Fiat 500e                         1948\n",
       "Jaguar I-Pace                     1898\n",
       "Volkswagen ID.4                    611\n",
       "Ford Focus EV                      607\n",
       "Volkswagen e-Golf                  552\n",
       "Chevrolet Spark                    492\n",
       "Smart forTwo EV Cabrio             438\n",
       "Audi e-tron Sportback              373\n",
       "Mercedes B-Class Electric          344\n",
       "Kia Soul EV                        313\n",
       "Tesla Roadster                     295\n",
       "Mitsubishi i                       288\n",
       "Kia Niro EV                        280\n",
       "Hyundai Kona Electric              170\n",
       "Ford Mustang Mach-E                156\n",
       "Mini Hardtop 2 Door EV             153\n",
       "Volvo XC40 Recharge                129\n",
       "Hyundai Ioniq EV                   101\n",
       "Toyota RAV4 EV                      49\n",
       "Chevrolet Bolt EUV                  23\n",
       "Wheego Life                         13\n",
       "Polestar 2                          13\n",
       "Proterra Electric Transit Bus        9\n",
       "International Estar                  5\n",
       "Azure Transit Connect                5\n",
       "BYD K9S 35' Transit Bus              4\n",
       "Smart EQ ForTwo                      4\n",
       "Lion LionC Bus                       2\n",
       "Name: Vehicle Name, dtype: int64"
      ]
     },
     "execution_count": 4,
     "metadata": {},
     "output_type": "execute_result"
    }
   ],
   "source": [
    "df_raw = pd.read_csv('data/fl_ev_registrations_public.csv')\n",
    "df_raw = df_raw[(df_raw.Technology == 'BEV')]\n",
    "df_raw.info()\n",
    "df_raw['Vehicle Name'].value_counts()"
   ]
  },
  {
   "cell_type": "markdown",
   "metadata": {},
   "source": [
    "For my analyses, since my primary focus is the growth of electric vehicles, I will create a new dataframe based on the count of vehicles being registered per year. "
   ]
  },
  {
   "cell_type": "code",
   "execution_count": 6,
   "metadata": {},
   "outputs": [
    {
     "data": {
      "text/html": [
       "<div>\n",
       "<style scoped>\n",
       "    .dataframe tbody tr th:only-of-type {\n",
       "        vertical-align: middle;\n",
       "    }\n",
       "\n",
       "    .dataframe tbody tr th {\n",
       "        vertical-align: top;\n",
       "    }\n",
       "\n",
       "    .dataframe thead th {\n",
       "        text-align: right;\n",
       "    }\n",
       "</style>\n",
       "<table border=\"1\" class=\"dataframe\">\n",
       "  <thead>\n",
       "    <tr style=\"text-align: right;\">\n",
       "      <th></th>\n",
       "      <th>Year</th>\n",
       "      <th>Registered Vehicles</th>\n",
       "    </tr>\n",
       "  </thead>\n",
       "  <tbody>\n",
       "    <tr>\n",
       "      <th>0</th>\n",
       "      <td>7/19/2021</td>\n",
       "      <td>70279</td>\n",
       "    </tr>\n",
       "    <tr>\n",
       "      <th>1</th>\n",
       "      <td>12/31/2020</td>\n",
       "      <td>52877</td>\n",
       "    </tr>\n",
       "    <tr>\n",
       "      <th>2</th>\n",
       "      <td>6/30/2020</td>\n",
       "      <td>43123</td>\n",
       "    </tr>\n",
       "    <tr>\n",
       "      <th>3</th>\n",
       "      <td>12/31/2019</td>\n",
       "      <td>39789</td>\n",
       "    </tr>\n",
       "    <tr>\n",
       "      <th>4</th>\n",
       "      <td>12/31/2018</td>\n",
       "      <td>25458</td>\n",
       "    </tr>\n",
       "  </tbody>\n",
       "</table>\n",
       "</div>"
      ],
      "text/plain": [
       "         Year Registered Vehicles\n",
       "0   7/19/2021               70279\n",
       "1  12/31/2020               52877\n",
       "2   6/30/2020               43123\n",
       "3  12/31/2019               39789\n",
       "4  12/31/2018               25458"
      ]
     },
     "execution_count": 6,
     "metadata": {},
     "output_type": "execute_result"
    }
   ],
   "source": [
    "years = pd.DataFrame(df_raw['Registration Valid Date'].value_counts().reset_index().values, columns=[\"Year\", \"Registered Vehicles\"])\n",
    "years.head()"
   ]
  },
  {
   "cell_type": "code",
   "execution_count": 7,
   "metadata": {},
   "outputs": [
    {
     "data": {
      "text/html": [
       "<div>\n",
       "<style scoped>\n",
       "    .dataframe tbody tr th:only-of-type {\n",
       "        vertical-align: middle;\n",
       "    }\n",
       "\n",
       "    .dataframe tbody tr th {\n",
       "        vertical-align: top;\n",
       "    }\n",
       "\n",
       "    .dataframe thead th {\n",
       "        text-align: right;\n",
       "    }\n",
       "</style>\n",
       "<table border=\"1\" class=\"dataframe\">\n",
       "  <thead>\n",
       "    <tr style=\"text-align: right;\">\n",
       "      <th></th>\n",
       "      <th>Registered Vehicles</th>\n",
       "    </tr>\n",
       "    <tr>\n",
       "      <th>Year</th>\n",
       "      <th></th>\n",
       "    </tr>\n",
       "  </thead>\n",
       "  <tbody>\n",
       "    <tr>\n",
       "      <th>2018-06-30</th>\n",
       "      <td>18115.0</td>\n",
       "    </tr>\n",
       "    <tr>\n",
       "      <th>2018-12-31</th>\n",
       "      <td>25458.0</td>\n",
       "    </tr>\n",
       "    <tr>\n",
       "      <th>2019-12-31</th>\n",
       "      <td>39789.0</td>\n",
       "    </tr>\n",
       "    <tr>\n",
       "      <th>2020-06-30</th>\n",
       "      <td>43123.0</td>\n",
       "    </tr>\n",
       "    <tr>\n",
       "      <th>2020-12-31</th>\n",
       "      <td>52877.0</td>\n",
       "    </tr>\n",
       "    <tr>\n",
       "      <th>2021-07-19</th>\n",
       "      <td>70279.0</td>\n",
       "    </tr>\n",
       "  </tbody>\n",
       "</table>\n",
       "</div>"
      ],
      "text/plain": [
       "            Registered Vehicles\n",
       "Year                           \n",
       "2018-06-30              18115.0\n",
       "2018-12-31              25458.0\n",
       "2019-12-31              39789.0\n",
       "2020-06-30              43123.0\n",
       "2020-12-31              52877.0\n",
       "2021-07-19              70279.0"
      ]
     },
     "execution_count": 7,
     "metadata": {},
     "output_type": "execute_result"
    },
    {
     "data": {
      "image/png": "[encoded data removed]",
      "text/plain": [
       "<Figure size 576x396 with 1 Axes>"
      ]
     },
     "metadata": {},
     "output_type": "display_data"
    }
   ],
   "source": [
    "df = pd.DataFrame(years['Registered Vehicles']).set_axis(pd.to_datetime(years['Year'])).sort_values(by=['Year'], ascending = True).astype(float)\n",
    "df.plot()\n",
    "df"
   ]
  },
  {
   "cell_type": "markdown",
   "metadata": {},
   "source": [
    "Here we see an upwards trend of EV's on the road from 2018 to 2021 as expected due to the surge of electric vehicles on the road these past few years. "
   ]
  },
  {
   "cell_type": "code",
   "execution_count": null,
   "metadata": {},
   "outputs": [],
   "source": [
    "# result = seasonal_decompose(df, model='multiplicative')\n",
    "# fig = result.plot()\n"
   ]
  },
  {
   "cell_type": "markdown",
   "metadata": {},
   "source": [
    "## **RESAMPLING"
   ]
  },
  {
   "cell_type": "code",
   "execution_count": null,
   "metadata": {},
   "outputs": [],
   "source": [
    "# # Interpolate - Backfill \n",
    "# df = df.resample('W').interpolate(method = 'linear')\n",
    "# df = df.bfill()\n",
    "# print(df.head())\n",
    "# df.plot()"
   ]
  },
  {
   "cell_type": "code",
   "execution_count": null,
   "metadata": {},
   "outputs": [],
   "source": [
    "# # Backfill \n",
    "# df = df.resample('W').bfill()\n",
    "# df.plot()"
   ]
  },
  {
   "cell_type": "code",
   "execution_count": null,
   "metadata": {},
   "outputs": [],
   "source": [
    "# #Frontfill \n",
    "df = df.resample('M').ffill()\n",
    "df.plot()"
   ]
  },
  {
   "cell_type": "code",
   "execution_count": null,
   "metadata": {},
   "outputs": [],
   "source": [
    "auto_model = pm.auto_arima(df, start_p=0, start_q=0,\n",
    "                     test='adf',\n",
    "                     max_p=6, max_q=6,\n",
    "                     m=1,\n",
    "                     d=0,\n",
    "                     seasonal = True,\n",
    "                     start_P=0,start_Q=0,\n",
    "                     D=0,\n",
    "                     trace=True,\n",
    "                     error_action= 'ignore',\n",
    "                     suppress_warnings=True,\n",
    "                     stepwise=True,with_intercept=False)\n",
    "print(auto_model.summary())\n"
   ]
  },
  {
   "cell_type": "markdown",
   "metadata": {},
   "source": [
    "## Testing "
   ]
  },
  {
   "cell_type": "code",
   "execution_count": null,
   "metadata": {},
   "outputs": [],
   "source": [
    "adtest = adfuller(df)\n",
    "display(adtest)"
   ]
  },
  {
   "cell_type": "code",
   "execution_count": null,
   "metadata": {},
   "outputs": [],
   "source": []
  },
  {
   "cell_type": "code",
   "execution_count": null,
   "metadata": {},
   "outputs": [],
   "source": []
  },
  {
   "cell_type": "markdown",
   "metadata": {},
   "source": [
    "## Modeling"
   ]
  },
  {
   "cell_type": "code",
   "execution_count": null,
   "metadata": {},
   "outputs": [],
   "source": [
    "# Splitting Training and Testing data; using after 2019 as test\n",
    "\n",
    "train = df['2018-06-30':'2020-12-31']\n",
    "test = df['2020-12-31':]\n",
    "combined = df\n",
    "\n",
    "test"
   ]
  },
  {
   "cell_type": "code",
   "execution_count": null,
   "metadata": {},
   "outputs": [],
   "source": [
    "naive = train.shift(1)\n",
    "np.sqrt(mean_squared_error(train[1:], naive.dropna()))"
   ]
  },
  {
   "cell_type": "code",
   "execution_count": null,
   "metadata": {},
   "outputs": [],
   "source": [
    "auto_model = pm.auto_arima(train, start_p=0, start_q=0,\n",
    "                     test='adf',\n",
    "                     max_p=6, max_q=6,\n",
    "                     m=1,\n",
    "                     d=0,\n",
    "                     seasonal = True,\n",
    "                     start_P=0,start_Q=0,\n",
    "                     D=0,\n",
    "                     trace=True,\n",
    "                     error_action= 'ignore',\n",
    "                     suppress_warnings=True,\n",
    "                     stepwise=True,with_intercept=False)\n",
    "print(auto_model.summary())\n",
    "\n"
   ]
  },
  {
   "cell_type": "markdown",
   "metadata": {},
   "source": [
    "### The best model is :  ARIMA (1,00) (0,0,0) [0]"
   ]
  },
  {
   "cell_type": "code",
   "execution_count": null,
   "metadata": {},
   "outputs": [],
   "source": [
    "ARIMA_MODEL = sm.tsa.statespace.sarimax.SARIMAX(train, \n",
    "                                        order=(1,0,0), \n",
    "                                        seasonal_order=(0, 0, 0, 0), \n",
    "                                        enforce_stationarity=False, \n",
    "                                        enforce_invertibility=False)\n",
    "\n",
    "\n",
    "output = ARIMA_MODEL.fit()\n",
    "\n",
    "print(output.summary().tables[1])\n",
    "auto_model.plot_diagnostics(figsize=(18,18))\n",
    "plt.show()"
   ]
  },
  {
   "cell_type": "markdown",
   "metadata": {},
   "source": [
    "*mention about data behavior in markdown"
   ]
  },
  {
   "cell_type": "code",
   "execution_count": null,
   "metadata": {},
   "outputs": [],
   "source": [
    "pred = output.get_prediction(start=pd.to_datetime('2020-12-31'), end=pd.to_datetime('2021-07-19'), dynamic=False)\n",
    "pred_conf = pred.conf_int()\n"
   ]
  },
  {
   "cell_type": "code",
   "execution_count": null,
   "metadata": {},
   "outputs": [],
   "source": [
    "\n",
    "sns.set_style(style='white')\n",
    "rcParams['figure.figsize'] = 18, 9\n",
    "ax = df.plot(label='observed', linewidth = 4)\n",
    "\n",
    "pred.predicted_mean.plot(ax=ax, label='Prediction', alpha=0.5, linewidth = 4)\n",
    "\n",
    "\n",
    "ax.fill_between(pred_conf.index,\n",
    "                pred_conf.iloc[:, 0],\n",
    "                pred_conf.iloc[:, 1], color='grey', alpha=0.3,label = 'Confidence Interval')\n",
    "\n",
    "\n",
    "ax.set_xlabel('Date',fontsize=30)\n",
    "plt.xticks(fontsize=20)\n",
    "ax.set_ylabel('Quantity (in ten thousands) ',fontsize=30)\n",
    "ax.tick_params(axis='x', which='minor', labelsize=20)\n",
    "plt.yticks(fontsize=30)\n",
    "scale_y = 1e4\n",
    "ticks_y = ticker.FuncFormatter(lambda x, pos: '{0:g}'.format(x/scale_y))\n",
    "ax.yaxis.set_major_formatter(ticks_y)\n",
    "ax.set_title('Florida Performance Validation Model',fontsize=30)\n",
    "plt.legend(fontsize = 20)\n",
    "\n",
    "plt.show()"
   ]
  },
  {
   "cell_type": "code",
   "execution_count": null,
   "metadata": {},
   "outputs": [],
   "source": []
  },
  {
   "cell_type": "code",
   "execution_count": null,
   "metadata": {},
   "outputs": [],
   "source": [
    "# Beginning our forecasting for next 3 years (36 months)\n",
    "ARIMA_MODEL = sm.tsa.statespace.sarimax.SARIMAX(combined, \n",
    "                                        order=(1,0,0), \n",
    "                                        seasonal_order=(0, 0, 0, 0), \n",
    "                                        enforce_stationarity=False, \n",
    "                                        enforce_invertibility=False)\n",
    "\n",
    "\n",
    "full_output = ARIMA_MODEL.fit()\n",
    "\n",
    "print(output.summary().tables[1])"
   ]
  },
  {
   "cell_type": "code",
   "execution_count": null,
   "metadata": {},
   "outputs": [],
   "source": [
    "forecast = full_output.get_forecast(48)\n",
    "future_prediction = forecast.conf_int()\n",
    "future_prediction['value'] = forecast.predicted_mean\n",
    "future_prediction.columns = ['lower','upper','prediction'] \n",
    "future_prediction"
   ]
  },
  {
   "cell_type": "markdown",
   "metadata": {},
   "source": [
    "August of 2024: \n",
    "\n",
    "301180 EV's on the road"
   ]
  },
  {
   "cell_type": "code",
   "execution_count": null,
   "metadata": {},
   "outputs": [],
   "source": [
    "sns.set_style(style='white')\n",
    "fig, ax = plt.subplots()\n",
    "combined.plot(ax=ax,label='Actual')\n",
    "\n",
    "\n",
    "future_prediction['prediction'].plot(ax=ax,label='predicted value',ls='--')\n",
    "\n",
    "ax.fill_between(x= future_prediction.index, y1= future_prediction['lower'], \n",
    "                y2= future_prediction['upper'], color = 'lightblue',\n",
    "                label='Confidence Interval')\n",
    "\n",
    "\n",
    "ax.set_xlabel('Year',fontsize=30)\n",
    "plt.xticks(fontsize=20)\n",
    "ax.set_ylabel('Number of EVs (hundred thousands)',fontsize=30)\n",
    "plt.yticks(fontsize=20)\n",
    "\n",
    "scale_y = 1e5\n",
    "ticks_y = ticker.FuncFormatter(lambda x, pos: '{0:g}'.format(x/scale_y))\n",
    "ax.yaxis.set_major_formatter(ticks_y)\n",
    "ax.set_title('Florida Battery EV Forecast',fontsize=30)\n",
    "plt.legend(fontsize = 15)\n",
    "plt.show()"
   ]
  },
  {
   "cell_type": "code",
   "execution_count": null,
   "metadata": {},
   "outputs": [],
   "source": [
    "MSE = mean_squared_error(test, pred_conf['lower Registered Vehicles'])\n",
    " \n",
    "RMSE = math.sqrt(MSE)\n",
    "print(RMSE)"
   ]
  },
  {
   "cell_type": "code",
   "execution_count": null,
   "metadata": {},
   "outputs": [],
   "source": []
  }
 ],
 "metadata": {
  "kernelspec": {
   "display_name": "Python 3",
   "language": "python",
   "name": "python3"
  },
  "language_info": {
   "codemirror_mode": {
    "name": "ipython",
    "version": 3
   },
   "file_extension": ".py",
   "mimetype": "text/x-python",
   "name": "python",
   "nbconvert_exporter": "python",
   "pygments_lexer": "ipython3",
   "version": "3.8.5"
  }
 },
 "nbformat": 4,
 "nbformat_minor": 4
}
