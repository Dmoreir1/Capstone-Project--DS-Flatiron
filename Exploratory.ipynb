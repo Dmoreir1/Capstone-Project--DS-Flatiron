{
 "cells": [
  {
   "cell_type": "code",
   "execution_count": 1,
   "metadata": {},
   "outputs": [],
   "source": [
    "import pandas as pd\n",
    "import numpy as np\n",
    "import datetime\n",
    "import statsmodels as sm\n",
    "import matplotlib.pyplot as plt\n",
    "import seaborn as sns \n",
    "from statsmodels.graphics.tsaplots import plot_acf, plot_pacf\n",
    "from statsmodels.tsa.arima.model import ARIMA\n",
    "from statsmodels.tsa.statespace.sarimax import SARIMAX\n",
    "from sklearn.metrics import mean_squared_error\n",
    "from statsmodels.tsa.stattools import adfuller, acf, pacf\n",
    "from sklearn.linear_model import LinearRegression\n",
    "from statsmodels.tsa.seasonal import seasonal_decompose\n",
    "from matplotlib.pylab import rcParams\n",
    "import matplotlib\n",
    "import folium\n",
    "import warnings\n",
    "import matplotlib.ticker as ticker\n",
    "from sklearn.model_selection import TimeSeriesSplit\n",
    "import pmdarima as pm\n",
    "%matplotlib inline"
   ]
  },
  {
   "cell_type": "code",
   "execution_count": 2,
   "metadata": {},
   "outputs": [
    {
     "name": "stderr",
     "output_type": "stream",
     "text": [
      "/opt/anaconda3/envs/learn-env/lib/python3.8/site-packages/IPython/core/interactiveshell.py:3145: DtypeWarning: Columns (1) have mixed types.Specify dtype option on import or set low_memory=False.\n",
      "  has_raised = await self.run_ast_nodes(code_ast.body, cell_name,\n",
      "/opt/anaconda3/envs/learn-env/lib/python3.8/site-packages/IPython/core/interactiveshell.py:3145: DtypeWarning: Columns (3) have mixed types.Specify dtype option on import or set low_memory=False.\n",
      "  has_raised = await self.run_ast_nodes(code_ast.body, cell_name,\n",
      "/opt/anaconda3/envs/learn-env/lib/python3.8/site-packages/IPython/core/interactiveshell.py:3145: DtypeWarning: Columns (5) have mixed types.Specify dtype option on import or set low_memory=False.\n",
      "  has_raised = await self.run_ast_nodes(code_ast.body, cell_name,\n"
     ]
    }
   ],
   "source": [
    "# import data from CA, CT, TX, FL, NY, NJ \n",
    "ca = pd.read_csv('data/ca_ev_registrations_public.csv')\n",
    "nj = pd.read_csv('data/nj_ev_registrations_public.csv')\n",
    "ny = pd.read_csv('data/ny_ev_registrations_public.csv')\n",
    "tx = pd.read_csv('data/tx_ev_registrations_public.csv')\n",
    "fl = pd.read_csv('data/fl_ev_registrations_public.csv')\n",
    "ct = pd.read_csv('data/ct_ev_registrations_public.csv')"
   ]
  },
  {
   "cell_type": "code",
   "execution_count": 3,
   "metadata": {},
   "outputs": [
    {
     "name": "stdout",
     "output_type": "stream",
     "text": [
      "<class 'pandas.core.frame.DataFrame'>\n",
      "RangeIndex: 2542443 entries, 0 to 2542442\n",
      "Data columns (total 9 columns):\n",
      " #   Column                        Dtype  \n",
      "---  ------                        -----  \n",
      " 0   Vehicle ID                    object \n",
      " 1   County GEOID                  object \n",
      " 2   Registration Valid Date       object \n",
      " 3   DMV ID                        int64  \n",
      " 4   DMV Snapshot                  object \n",
      " 5   Registration Expiration Date  float64\n",
      " 6   State Abbreviation            object \n",
      " 7   Geography                     object \n",
      " 8   Vehicle Name                  object \n",
      "dtypes: float64(1), int64(1), object(7)\n",
      "memory usage: 174.6+ MB\n",
      "<class 'pandas.core.frame.DataFrame'>\n",
      "RangeIndex: 309872 entries, 0 to 309871\n",
      "Data columns (total 10 columns):\n",
      " #   Column                        Non-Null Count   Dtype  \n",
      "---  ------                        --------------   -----  \n",
      " 0   DMV ID                        309872 non-null  int64  \n",
      " 1   DMV Snapshot (Date)           309872 non-null  object \n",
      " 2   Registration Valid Date       309872 non-null  object \n",
      " 3   ZIP Code                      309872 non-null  object \n",
      " 4   VIN Prefix                    309872 non-null  object \n",
      " 5   VIN Model Year                309872 non-null  object \n",
      " 6   Registration Expiration Date  0 non-null       float64\n",
      " 7   Make                          309872 non-null  object \n",
      " 8   Model                         309872 non-null  object \n",
      " 9   Model Year                    309872 non-null  int64  \n",
      "dtypes: float64(1), int64(2), object(7)\n",
      "memory usage: 23.6+ MB\n",
      "<class 'pandas.core.frame.DataFrame'>\n",
      "RangeIndex: 3118179 entries, 0 to 3118178\n",
      "Data columns (total 10 columns):\n",
      " #   Column                        Dtype \n",
      "---  ------                        ----- \n",
      " 0   DMV ID                        int64 \n",
      " 1   DMV Snapshot                  object\n",
      " 2   ZIP Code                      int64 \n",
      " 3   State                         object\n",
      " 4   Registration Valid Date       object\n",
      " 5   Registration Expiration Date  object\n",
      " 6   VIN Prefix                    object\n",
      " 7   VIN Model Year                object\n",
      " 8   Vehicle Name                  object\n",
      " 9   Technology                    object\n",
      "dtypes: int64(2), object(8)\n",
      "memory usage: 237.9+ MB\n",
      "<class 'pandas.core.frame.DataFrame'>\n",
      "RangeIndex: 1446588 entries, 0 to 1446587\n",
      "Data columns (total 12 columns):\n",
      " #   Column                        Non-Null Count    Dtype  \n",
      "---  ------                        --------------    -----  \n",
      " 0   Vehicle ID                    1446588 non-null  object \n",
      " 1   ZIP Code                      1446588 non-null  object \n",
      " 2   Registration Valid Date       1446588 non-null  object \n",
      " 3   VIN Prefix                    1446588 non-null  object \n",
      " 4   DMV_ID                        1446588 non-null  int64  \n",
      " 5   DMV ID Complete               1446588 non-null  object \n",
      " 6   DMV Snapshot                  1446588 non-null  object \n",
      " 7   Registration Expiration Date  0 non-null        float64\n",
      " 8   State Abbreviation            1446588 non-null  object \n",
      " 9   Geography                     1446588 non-null  object \n",
      " 10  Vehicle Name                  1446588 non-null  object \n",
      " 11  Technology                    1446588 non-null  object \n",
      "dtypes: float64(1), int64(1), object(10)\n",
      "memory usage: 132.4+ MB\n",
      "<class 'pandas.core.frame.DataFrame'>\n",
      "RangeIndex: 11439 entries, 0 to 11438\n",
      "Data columns (total 10 columns):\n",
      " #   Column                        Non-Null Count  Dtype \n",
      "---  ------                        --------------  ----- \n",
      " 0   DMV ID                        11439 non-null  int64 \n",
      " 1   DMV Snapshot (Date)           11439 non-null  object\n",
      " 2   ZIP Code                      11439 non-null  int64 \n",
      " 3   Registration Valid Date       11439 non-null  object\n",
      " 4   Registration Expiration Date  11439 non-null  object\n",
      " 5   VIN Prefix                    11439 non-null  object\n",
      " 6   VIN Model Year                11439 non-null  object\n",
      " 7   Make                          11439 non-null  object\n",
      " 8   Model                         11439 non-null  object\n",
      " 9   Model Year                    11439 non-null  int64 \n",
      "dtypes: int64(3), object(7)\n",
      "memory usage: 893.8+ KB\n",
      "<class 'pandas.core.frame.DataFrame'>\n",
      "RangeIndex: 353974 entries, 0 to 353973\n",
      "Data columns (total 7 columns):\n",
      " #   Column                        Non-Null Count   Dtype  \n",
      "---  ------                        --------------   -----  \n",
      " 0   DMV ID                        353974 non-null  int64  \n",
      " 1   DMV Snapshot (Date)           353974 non-null  object \n",
      " 2   County                        353974 non-null  object \n",
      " 3   Vehicle Name                  353974 non-null  object \n",
      " 4   Registration Valid Date       353974 non-null  object \n",
      " 5   Registration Expiration Date  0 non-null       float64\n",
      " 6   Technology                    353754 non-null  object \n",
      "dtypes: float64(1), int64(1), object(5)\n",
      "memory usage: 18.9+ MB\n"
     ]
    }
   ],
   "source": [
    "ca.info()\n",
    "# 2542443 entries in CA\n",
    "nj.info()\n",
    "# NJ has 309872 entries\n",
    "ny.info()\n",
    "tx.info()\n",
    "ct.info()\n",
    "fl.info()\n",
    "# ca['Registration Valid Date'].value_counts()"
   ]
  },
  {
   "cell_type": "code",
   "execution_count": 4,
   "metadata": {},
   "outputs": [],
   "source": [
    "# Create Data frame with years and amount of registered vehicles in that year\n",
    "ca_years = pd.DataFrame(ca['Registration Valid Date'].value_counts().reset_index().values, columns=[\"Year\", \"Registered Vehicles\"])"
   ]
  },
  {
   "cell_type": "code",
   "execution_count": 5,
   "metadata": {},
   "outputs": [
    {
     "data": {
      "text/plain": [
       "<AxesSubplot:xlabel='Year'>"
      ]
     },
     "execution_count": 5,
     "metadata": {},
     "output_type": "execute_result"
    },
    {
     "data": {
      "image/png": "[encoded data removed]",
      "text/plain": [
       "<Figure size 432x288 with 1 Axes>"
      ]
     },
     "metadata": {
      "needs_background": "light"
     },
     "output_type": "display_data"
    }
   ],
   "source": [
    "# As we can see, data is not stationary. \n",
    "ca_df = pd.Series(ca_years['Registered Vehicles'])\n",
    "ca_df = ca_df.set_axis(pd.to_datetime(ca_years['Year']))\n",
    "ca_df.plot()"
   ]
  },
  {
   "cell_type": "code",
   "execution_count": 6,
   "metadata": {},
   "outputs": [
    {
     "data": {
      "text/plain": [
       "(-1.7289856139173432,\n",
       " 0.41624347392997485,\n",
       " 3,\n",
       " 7,\n",
       " {'1%': -4.9386902332361515,\n",
       "  '5%': -3.477582857142857,\n",
       "  '10%': -2.8438679591836733},\n",
       " 138.47165121551794)"
      ]
     },
     "metadata": {},
     "output_type": "display_data"
    }
   ],
   "source": [
    "catest = adfuller(ca_df)\n",
    "display(catest)\n",
    "# Pvalue - 0.41624347392997485"
   ]
  },
  {
   "cell_type": "code",
   "execution_count": 7,
   "metadata": {},
   "outputs": [
    {
     "data": {
      "image/png": "[encoded data removed]",
      "text/plain": [
       "<Figure size 864x504 with 1 Axes>"
      ]
     },
     "metadata": {
      "needs_background": "light"
     },
     "output_type": "display_data"
    }
   ],
   "source": [
    "# Subtracting the rolling mean \n",
    "rmean = ca_df.rolling(window = 3, center = False).mean()\n",
    "rstd = ca_df.rolling(window=1, center = False).std()\n",
    "\n",
    "fig = plt.figure(figsize=(12,7))\n",
    "ca_orig = plt.plot(ca_df, color = 'blue', label = 'Original')\n",
    "cmean = plt.plot(rmean, color = 'red', label = 'Rolling Mean')\n",
    "cstd = plt.plot(rstd, color = 'black', label = 'Rolling STD')\n",
    "plt.legend(loc='best')\n",
    "plt.show(block=False)"
   ]
  },
  {
   "cell_type": "code",
   "execution_count": 15,
   "metadata": {},
   "outputs": [
    {
     "data": {
      "text/plain": [
       "Year\n",
       "2020-01-01    628473.0\n",
       "2019-01-01    559969.0\n",
       "2018-01-01    448567.0\n",
       "2017-01-01    322762.0\n",
       "2016-01-01    230171.0\n",
       "Name: Registered Vehicles, dtype: float64"
      ]
     },
     "execution_count": 15,
     "metadata": {},
     "output_type": "execute_result"
    }
   ],
   "source": [
    "ca_df = ca_df.astype(float)\n",
    "ca_df.head()"
   ]
  },
  {
   "cell_type": "code",
   "execution_count": 14,
   "metadata": {},
   "outputs": [],
   "source": [
    "decomposition = seasonal_decompose(np.log(ca_df))\n",
    "trend = decomposition.trend\n",
    "seasonal = decomposition.seasonal\n",
    "residual = decomposition.resid"
   ]
  },
  {
   "cell_type": "code",
   "execution_count": null,
   "metadata": {},
   "outputs": [],
   "source": [
    "plt.figure(figsize(12,8))"
   ]
  },
  {
   "cell_type": "code",
   "execution_count": null,
   "metadata": {},
   "outputs": [],
   "source": []
  },
  {
   "cell_type": "code",
   "execution_count": null,
   "metadata": {},
   "outputs": [],
   "source": []
  },
  {
   "cell_type": "code",
   "execution_count": null,
   "metadata": {},
   "outputs": [],
   "source": []
  },
  {
   "cell_type": "code",
   "execution_count": null,
   "metadata": {},
   "outputs": [],
   "source": []
  },
  {
   "cell_type": "code",
   "execution_count": null,
   "metadata": {},
   "outputs": [],
   "source": [
    "# Differencing to be stationary \n",
    "# ca_diff = ca_df.diff().dropna()\n",
    "# ca_diff.plot()"
   ]
  },
  {
   "cell_type": "code",
   "execution_count": null,
   "metadata": {},
   "outputs": [],
   "source": [
    "cadifftest = adfuller(ca_diff)\n",
    "display(cadifftest)\n",
    "# Pvalue -  0.9754235581948372"
   ]
  },
  {
   "cell_type": "code",
   "execution_count": null,
   "metadata": {},
   "outputs": [],
   "source": [
    "\n",
    "# plot_acf(ca_diff, ax=ax, lags = 3)"
   ]
  },
  {
   "cell_type": "markdown",
   "metadata": {},
   "source": [
    "#### Lets take the necessary data from each of the data frames - specifically date, and convert them into a usable format as they are currently 'objects' and need them to be in datetime format for analyses"
   ]
  },
  {
   "cell_type": "code",
   "execution_count": null,
   "metadata": {},
   "outputs": [],
   "source": [
    "# ca_dt = pd.to_datetime(ca['Registration Valid Date'])\n",
    "# ct_dt = pd.to_datetime(ct['Registration Valid Date'])\n",
    "# tx_dt = pd.to_datetime(tx['Registration Valid Date'])\n",
    "# fl_dt = pd.to_datetime(fl['Registration Valid Date'])\n",
    "# ny_dt = pd.to_datetime(ny['Registration Valid Date'])\n",
    "# nj_dt = pd.to_datetime(nj['Registration Valid Date'])\n",
    "\n",
    "# def get_datetimes(df):\n",
    "#     \"\"\"\n",
    "#     Takes a dataframe:\n",
    "#     returns only those column names that can be converted into datetime objects \n",
    "#     as datetime objects.\n",
    "#     NOTE number of returned columns may not match total number of columns in passed dataframe\n",
    "#     \"\"\"\n",
    "    \n",
    "#     return pd.to_datetime(df.columns.values[7:-5], format='%Y-%m')"
   ]
  },
  {
   "cell_type": "code",
   "execution_count": null,
   "metadata": {},
   "outputs": [],
   "source": []
  },
  {
   "cell_type": "code",
   "execution_count": null,
   "metadata": {},
   "outputs": [],
   "source": []
  },
  {
   "cell_type": "code",
   "execution_count": null,
   "metadata": {},
   "outputs": [],
   "source": []
  },
  {
   "cell_type": "code",
   "execution_count": null,
   "metadata": {},
   "outputs": [],
   "source": []
  }
 ],
 "metadata": {
  "kernelspec": {
   "display_name": "Python (learn-env)",
   "language": "python",
   "name": "learn-env"
  },
  "language_info": {
   "codemirror_mode": {
    "name": "ipython",
    "version": 3
   },
   "file_extension": ".py",
   "mimetype": "text/x-python",
   "name": "python",
   "nbconvert_exporter": "python",
   "pygments_lexer": "ipython3",
   "version": "3.8.5"
  }
 },
 "nbformat": 4,
 "nbformat_minor": 4
}
