{
 "cells": [
  {
   "cell_type": "code",
   "execution_count": 2,
   "metadata": {},
   "outputs": [],
   "source": [
    "import pandas as pd\n",
    "import numpy as np\n",
    "import datetime\n",
    "import statsmodels as sm\n",
    "import matplotlib.pyplot as plt\n",
    "import seaborn as sns \n",
    "from statsmodels.graphics.tsaplots import plot_acf, plot_pacf\n",
    "from statsmodels.tsa.arima.model import ARIMA\n",
    "from statsmodels.tsa.statespace.sarimax import SARIMAX\n",
    "from sklearn.metrics import mean_squared_error\n",
    "from statsmodels.tsa.stattools import adfuller, acf, pacf\n",
    "from sklearn.linear_model import LinearRegression\n",
    "from statsmodels.tsa.seasonal import seasonal_decompose\n",
    "from matplotlib.pylab import rcParams\n",
    "import matplotlib\n",
    "import folium\n",
    "import warnings\n",
    "import matplotlib.ticker as ticker\n",
    "from sklearn.model_selection import TimeSeriesSplit\n",
    "import pmdarima as pm\n",
    "%matplotlib inline"
   ]
  },
  {
   "cell_type": "code",
   "execution_count": 5,
   "metadata": {},
   "outputs": [
    {
     "name": "stderr",
     "output_type": "stream",
     "text": [
      "/opt/anaconda3/envs/learn-env/lib/python3.8/site-packages/IPython/core/interactiveshell.py:3145: DtypeWarning: Columns (3) have mixed types.Specify dtype option on import or set low_memory=False.\n",
      "  has_raised = await self.run_ast_nodes(code_ast.body, cell_name,\n",
      "/opt/anaconda3/envs/learn-env/lib/python3.8/site-packages/IPython/core/interactiveshell.py:3145: DtypeWarning: Columns (5) have mixed types.Specify dtype option on import or set low_memory=False.\n",
      "  has_raised = await self.run_ast_nodes(code_ast.body, cell_name,\n"
     ]
    }
   ],
   "source": [
    "# import data from CA, CT, TX, FL, NY, NJ \n",
    "ca = pd.read_csv('data/ca_ev_registrations_public.csv')\n",
    "nj = pd.read_csv('data/nj_ev_registrations_public.csv')\n",
    "ny = pd.read_csv('data/ny_ev_registrations_public.csv')\n",
    "tx = pd.read_csv('data/tx_ev_registrations_public.csv')\n",
    "fl = pd.read_csv('data/fl_ev_registrations_public.csv')\n",
    "ct = pd.read_csv('data/ct_ev_registrations_public.csv')"
   ]
  },
  {
   "cell_type": "code",
   "execution_count": 8,
   "metadata": {},
   "outputs": [
    {
     "name": "stdout",
     "output_type": "stream",
     "text": [
      "<class 'pandas.core.frame.DataFrame'>\n",
      "RangeIndex: 2542443 entries, 0 to 2542442\n",
      "Data columns (total 9 columns):\n",
      " #   Column                        Dtype  \n",
      "---  ------                        -----  \n",
      " 0   Vehicle ID                    object \n",
      " 1   County GEOID                  object \n",
      " 2   Registration Valid Date       object \n",
      " 3   DMV ID                        int64  \n",
      " 4   DMV Snapshot                  object \n",
      " 5   Registration Expiration Date  float64\n",
      " 6   State Abbreviation            object \n",
      " 7   Geography                     object \n",
      " 8   Vehicle Name                  object \n",
      "dtypes: float64(1), int64(1), object(7)\n",
      "memory usage: 174.6+ MB\n"
     ]
    }
   ],
   "source": [
    "ca.info()\n",
    "# 2542443 entries in CA"
   ]
  },
  {
   "cell_type": "code",
   "execution_count": 9,
   "metadata": {},
   "outputs": [
    {
     "name": "stdout",
     "output_type": "stream",
     "text": [
      "<class 'pandas.core.frame.DataFrame'>\n",
      "RangeIndex: 309872 entries, 0 to 309871\n",
      "Data columns (total 10 columns):\n",
      " #   Column                        Non-Null Count   Dtype  \n",
      "---  ------                        --------------   -----  \n",
      " 0   DMV ID                        309872 non-null  int64  \n",
      " 1   DMV Snapshot (Date)           309872 non-null  object \n",
      " 2   Registration Valid Date       309872 non-null  object \n",
      " 3   ZIP Code                      309872 non-null  object \n",
      " 4   VIN Prefix                    309872 non-null  object \n",
      " 5   VIN Model Year                309872 non-null  object \n",
      " 6   Registration Expiration Date  0 non-null       float64\n",
      " 7   Make                          309872 non-null  object \n",
      " 8   Model                         309872 non-null  object \n",
      " 9   Model Year                    309872 non-null  int64  \n",
      "dtypes: float64(1), int64(2), object(7)\n",
      "memory usage: 23.6+ MB\n"
     ]
    }
   ],
   "source": [
    "nj.info()\n",
    "# NJ has 309872 entries"
   ]
  },
  {
   "cell_type": "code",
   "execution_count": 10,
   "metadata": {},
   "outputs": [
    {
     "name": "stdout",
     "output_type": "stream",
     "text": [
      "<class 'pandas.core.frame.DataFrame'>\n",
      "RangeIndex: 3118179 entries, 0 to 3118178\n",
      "Data columns (total 10 columns):\n",
      " #   Column                        Dtype \n",
      "---  ------                        ----- \n",
      " 0   DMV ID                        int64 \n",
      " 1   DMV Snapshot                  object\n",
      " 2   ZIP Code                      int64 \n",
      " 3   State                         object\n",
      " 4   Registration Valid Date       object\n",
      " 5   Registration Expiration Date  object\n",
      " 6   VIN Prefix                    object\n",
      " 7   VIN Model Year                object\n",
      " 8   Vehicle Name                  object\n",
      " 9   Technology                    object\n",
      "dtypes: int64(2), object(8)\n",
      "memory usage: 237.9+ MB\n"
     ]
    }
   ],
   "source": [
    "ny.info()"
   ]
  },
  {
   "cell_type": "code",
   "execution_count": 11,
   "metadata": {},
   "outputs": [
    {
     "name": "stdout",
     "output_type": "stream",
     "text": [
      "<class 'pandas.core.frame.DataFrame'>\n",
      "RangeIndex: 1446588 entries, 0 to 1446587\n",
      "Data columns (total 12 columns):\n",
      " #   Column                        Non-Null Count    Dtype  \n",
      "---  ------                        --------------    -----  \n",
      " 0   Vehicle ID                    1446588 non-null  object \n",
      " 1   ZIP Code                      1446588 non-null  object \n",
      " 2   Registration Valid Date       1446588 non-null  object \n",
      " 3   VIN Prefix                    1446588 non-null  object \n",
      " 4   DMV_ID                        1446588 non-null  int64  \n",
      " 5   DMV ID Complete               1446588 non-null  object \n",
      " 6   DMV Snapshot                  1446588 non-null  object \n",
      " 7   Registration Expiration Date  0 non-null        float64\n",
      " 8   State Abbreviation            1446588 non-null  object \n",
      " 9   Geography                     1446588 non-null  object \n",
      " 10  Vehicle Name                  1446588 non-null  object \n",
      " 11  Technology                    1446588 non-null  object \n",
      "dtypes: float64(1), int64(1), object(10)\n",
      "memory usage: 132.4+ MB\n"
     ]
    }
   ],
   "source": [
    "tx.info()"
   ]
  },
  {
   "cell_type": "code",
   "execution_count": 12,
   "metadata": {},
   "outputs": [
    {
     "name": "stdout",
     "output_type": "stream",
     "text": [
      "<class 'pandas.core.frame.DataFrame'>\n",
      "RangeIndex: 11439 entries, 0 to 11438\n",
      "Data columns (total 10 columns):\n",
      " #   Column                        Non-Null Count  Dtype \n",
      "---  ------                        --------------  ----- \n",
      " 0   DMV ID                        11439 non-null  int64 \n",
      " 1   DMV Snapshot (Date)           11439 non-null  object\n",
      " 2   ZIP Code                      11439 non-null  int64 \n",
      " 3   Registration Valid Date       11439 non-null  object\n",
      " 4   Registration Expiration Date  11439 non-null  object\n",
      " 5   VIN Prefix                    11439 non-null  object\n",
      " 6   VIN Model Year                11439 non-null  object\n",
      " 7   Make                          11439 non-null  object\n",
      " 8   Model                         11439 non-null  object\n",
      " 9   Model Year                    11439 non-null  int64 \n",
      "dtypes: int64(3), object(7)\n",
      "memory usage: 893.8+ KB\n"
     ]
    }
   ],
   "source": [
    "ct.info()"
   ]
  },
  {
   "cell_type": "code",
   "execution_count": 14,
   "metadata": {},
   "outputs": [
    {
     "data": {
      "text/html": [
       "<div>\n",
       "<style scoped>\n",
       "    .dataframe tbody tr th:only-of-type {\n",
       "        vertical-align: middle;\n",
       "    }\n",
       "\n",
       "    .dataframe tbody tr th {\n",
       "        vertical-align: top;\n",
       "    }\n",
       "\n",
       "    .dataframe thead th {\n",
       "        text-align: right;\n",
       "    }\n",
       "</style>\n",
       "<table border=\"1\" class=\"dataframe\">\n",
       "  <thead>\n",
       "    <tr style=\"text-align: right;\">\n",
       "      <th></th>\n",
       "      <th>DMV ID</th>\n",
       "      <th>DMV Snapshot (Date)</th>\n",
       "      <th>County</th>\n",
       "      <th>Vehicle Name</th>\n",
       "      <th>Registration Valid Date</th>\n",
       "      <th>Registration Expiration Date</th>\n",
       "      <th>Technology</th>\n",
       "    </tr>\n",
       "  </thead>\n",
       "  <tbody>\n",
       "    <tr>\n",
       "      <th>0</th>\n",
       "      <td>1</td>\n",
       "      <td>Registration Data from FPL (6/30/2018)</td>\n",
       "      <td>Dade</td>\n",
       "      <td>Tesla Model X</td>\n",
       "      <td>6/30/2018</td>\n",
       "      <td>NaN</td>\n",
       "      <td>BEV</td>\n",
       "    </tr>\n",
       "    <tr>\n",
       "      <th>1</th>\n",
       "      <td>1</td>\n",
       "      <td>Registration Data from FPL (6/30/2018)</td>\n",
       "      <td>Dade</td>\n",
       "      <td>Tesla Model X</td>\n",
       "      <td>6/30/2018</td>\n",
       "      <td>NaN</td>\n",
       "      <td>BEV</td>\n",
       "    </tr>\n",
       "    <tr>\n",
       "      <th>2</th>\n",
       "      <td>1</td>\n",
       "      <td>Registration Data from FPL (6/30/2018)</td>\n",
       "      <td>Dade</td>\n",
       "      <td>Tesla Model X</td>\n",
       "      <td>6/30/2018</td>\n",
       "      <td>NaN</td>\n",
       "      <td>BEV</td>\n",
       "    </tr>\n",
       "    <tr>\n",
       "      <th>3</th>\n",
       "      <td>1</td>\n",
       "      <td>Registration Data from FPL (6/30/2018)</td>\n",
       "      <td>Dade</td>\n",
       "      <td>Tesla Model X</td>\n",
       "      <td>6/30/2018</td>\n",
       "      <td>NaN</td>\n",
       "      <td>BEV</td>\n",
       "    </tr>\n",
       "    <tr>\n",
       "      <th>4</th>\n",
       "      <td>1</td>\n",
       "      <td>Registration Data from FPL (6/30/2018)</td>\n",
       "      <td>Dade</td>\n",
       "      <td>Tesla Model X</td>\n",
       "      <td>6/30/2018</td>\n",
       "      <td>NaN</td>\n",
       "      <td>BEV</td>\n",
       "    </tr>\n",
       "  </tbody>\n",
       "</table>\n",
       "</div>"
      ],
      "text/plain": [
       "   DMV ID                     DMV Snapshot (Date) County   Vehicle Name  \\\n",
       "0       1  Registration Data from FPL (6/30/2018)   Dade  Tesla Model X   \n",
       "1       1  Registration Data from FPL (6/30/2018)   Dade  Tesla Model X   \n",
       "2       1  Registration Data from FPL (6/30/2018)   Dade  Tesla Model X   \n",
       "3       1  Registration Data from FPL (6/30/2018)   Dade  Tesla Model X   \n",
       "4       1  Registration Data from FPL (6/30/2018)   Dade  Tesla Model X   \n",
       "\n",
       "  Registration Valid Date  Registration Expiration Date Technology  \n",
       "0               6/30/2018                           NaN        BEV  \n",
       "1               6/30/2018                           NaN        BEV  \n",
       "2               6/30/2018                           NaN        BEV  \n",
       "3               6/30/2018                           NaN        BEV  \n",
       "4               6/30/2018                           NaN        BEV  "
      ]
     },
     "execution_count": 14,
     "metadata": {},
     "output_type": "execute_result"
    }
   ],
   "source": [
    "fl.head()"
   ]
  },
  {
   "cell_type": "code",
   "execution_count": null,
   "metadata": {},
   "outputs": [],
   "source": []
  }
 ],
 "metadata": {
  "kernelspec": {
   "display_name": "Python (learn-env)",
   "language": "python",
   "name": "learn-env"
  },
  "language_info": {
   "codemirror_mode": {
    "name": "ipython",
    "version": 3
   },
   "file_extension": ".py",
   "mimetype": "text/x-python",
   "name": "python",
   "nbconvert_exporter": "python",
   "pygments_lexer": "ipython3",
   "version": "3.8.5"
  }
 },
 "nbformat": 4,
 "nbformat_minor": 4
}
