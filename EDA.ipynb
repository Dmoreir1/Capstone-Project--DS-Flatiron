{
 "cells": [
  {
   "cell_type": "code",
   "execution_count": 1,
   "metadata": {},
   "outputs": [],
   "source": [
    "import pandas as pd\n",
    "import numpy as np\n",
    "import datetime\n",
    "import statsmodels as sm\n",
    "import matplotlib.pyplot as plt\n",
    "import seaborn as sns \n",
    "from statsmodels.graphics.tsaplots import plot_acf, plot_pacf\n",
    "from statsmodels.tsa.arima.model import ARIMA\n",
    "from statsmodels.tsa.statespace.sarimax import SARIMAX\n",
    "from sklearn.metrics import mean_squared_error\n",
    "from statsmodels.tsa.stattools import adfuller, acf, pacf\n",
    "from sklearn.linear_model import LinearRegression\n",
    "from statsmodels.tsa.seasonal import seasonal_decompose\n",
    "from matplotlib.pylab import rcParams\n",
    "import matplotlib\n",
    "import folium\n",
    "import warnings\n",
    "import matplotlib.ticker as ticker\n",
    "from sklearn.model_selection import TimeSeriesSplit\n",
    "import pmdarima as pm\n",
    "%matplotlib inline"
   ]
  },
  {
   "cell_type": "code",
   "execution_count": 3,
   "metadata": {},
   "outputs": [],
   "source": [
    "# import data\n",
    "ca = pd.read_csv('data/ca_ev_registrations_public.csv')\n",
    "nj = pd.read_csv('data/nj_ev_registrations_public.csv')\n",
    "ny = pd.read_csv('data/ny_ev_registrations_public.csv')\n",
    "tx = pd.read_csv('data/tx_ev_registrations_public.csv')\n",
    "fl = pd.read_csv('data/fl_ev_registrations_public.csv')\n",
    "ct = pd.read_csv('data/ct_ev_registrations_public.csv')\n",
    "wa = pd.read_csv('data/wa_ev_registrations_public.csv')\n",
    "co = pd.read_csv('data/co_ev_registrations_public.csv')\n",
    "mi = pd.read_csv('data/mi_ev_registrations_public.csv')\n",
    "mn = pd.read_csv('data/mn_ev_registrations_public.csv')\n",
    "mt = pd.read_csv('data/mt_ev_registrations_public.csv')\n",
    "ogn = pd.read_csv('data/or_ev_registrations_public.csv')\n",
    "tn = pd.read_csv('data/tn_ev_registrations_public.csv')\n",
    "va = pd.read_csv('data/va_ev_registrations_public.csv')\n",
    "vt = pd.read_csv('data/vt_ev_registrations_public.csv')\n",
    "wi = pd.read_csv('data/wi_ev_registrations_public.csv')"
   ]
  },
  {
   "cell_type": "code",
   "execution_count": null,
   "metadata": {},
   "outputs": [],
   "source": []
  }
 ],
 "metadata": {
  "kernelspec": {
   "display_name": "Python (learn-env)",
   "language": "python",
   "name": "learn-env"
  },
  "language_info": {
   "codemirror_mode": {
    "name": "ipython",
    "version": 3
   },
   "file_extension": ".py",
   "mimetype": "text/x-python",
   "name": "python",
   "nbconvert_exporter": "python",
   "pygments_lexer": "ipython3",
   "version": "3.8.5"
  }
 },
 "nbformat": 4,
 "nbformat_minor": 4
}
