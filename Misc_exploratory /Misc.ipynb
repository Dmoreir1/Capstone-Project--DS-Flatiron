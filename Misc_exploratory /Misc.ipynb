{
 "cells": [
  {
   "cell_type": "code",
   "execution_count": null,
   "metadata": {},
   "outputs": [],
   "source": [
    "def set_datetime(df):\n",
    "    df['date'] = pd.to_datetime(df[['year', 'month', 'day', 'hour']])\n",
    "    df.set_index('date', inplace=True)\n",
    "    df.drop(columns=['year', 'month', 'day', 'hour'], axis=1, inplace=True)\n",
    "    return df"
   ]
  },
  {
   "cell_type": "code",
   "execution_count": null,
   "metadata": {},
   "outputs": [],
   "source": [
    "# df_chang_avg = df_chang.resample('D').mean()"
   ]
  },
  {
   "cell_type": "code",
   "execution_count": null,
   "metadata": {},
   "outputs": [],
   "source": [
    "\n",
    "# cols = ['Registration Valid Date']\n",
    "\n",
    "# ca1 = pd.read_csv('data/ca_ev_registrations_public.csv', skipinitialspace=True, usecols=cols)\n",
    "# # ca1 = pd.read_csv('data/ca_ev_registrations_public.csv', \n",
    "# #                  index_col=0, parse_dates=True)\n",
    "# ca1.info()\n"
   ]
  },
  {
   "cell_type": "code",
   "execution_count": null,
   "metadata": {},
   "outputs": [],
   "source": [
    "# rv = ca_years['Registered Vehicles']\n",
    "# ca_years['Year'] = pd.to_datetime(ca_years['Year'])\n",
    "# index = pd.DatetimeIndex(ca_years['Year'])\n",
    "# index"
   ]
  }
 ],
 "metadata": {
  "kernelspec": {
   "display_name": "Python (learn-env)",
   "language": "python",
   "name": "learn-env"
  },
  "language_info": {
   "codemirror_mode": {
    "name": "ipython",
    "version": 3
   },
   "file_extension": ".py",
   "mimetype": "text/x-python",
   "name": "python",
   "nbconvert_exporter": "python",
   "pygments_lexer": "ipython3",
   "version": "3.8.5"
  }
 },
 "nbformat": 4,
 "nbformat_minor": 4
}
